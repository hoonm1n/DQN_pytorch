{
 "cells": [
  {
   "cell_type": "code",
   "execution_count": 1,
   "id": "39420644",
   "metadata": {},
   "outputs": [],
   "source": [
    "from torch.optim import SGD, Adam #Default optimizer. you may use other optimizers\n",
    "from torch.utils.data import DataLoader\n",
    "import argparse\n",
    "import torch\n",
    "import torch.nn as nn\n",
    "import gym\n",
    "from utils import get_explore_rate, select_action, insert_memory\n",
    "from model import Q_net\n",
    "from replay_buffer import *\n",
    "import copy\n",
    "\n",
    "import torch"
   ]
  },
  {
   "cell_type": "code",
   "execution_count": 2,
   "id": "5dc981e0",
   "metadata": {},
   "outputs": [],
   "source": [
    "class train_args():\n",
    "    def __init__(self):\n",
    "        self.num_episodes = 10000\n",
    "        self.max_timestep = 250\n",
    "        self.solved_timestep = 99\n",
    "        self.streak_to_end = 120\n",
    "        self.batchsize = 64\n",
    "        self.min_explore_rate = 0.01\n",
    "        self.discount_factor = 0.99\n",
    "        self.decay_constant = 25\n",
    "        self.max_memory = 1000\n",
    "args = train_args()"
   ]
  },
  {
   "cell_type": "code",
   "execution_count": 3,
   "id": "472e878c",
   "metadata": {},
   "outputs": [],
   "source": [
    "env = gym.make('CartPole-v1')"
   ]
  },
  {
   "cell_type": "code",
   "execution_count": 4,
   "id": "11e54563",
   "metadata": {},
   "outputs": [],
   "source": [
    "model = Q_net()\n",
    "model_target = copy.deepcopy(model)\n",
    "optimizer = Adam(model.parameters(), lr = 0.01)\n",
    "criterion = nn.MSELoss()    "
   ]
  },
  {
   "cell_type": "code",
   "execution_count": 5,
   "id": "3324a838",
   "metadata": {},
   "outputs": [
    {
     "data": {
      "text/plain": [
       "1.0"
      ]
     },
     "execution_count": 5,
     "metadata": {},
     "output_type": "execute_result"
    }
   ],
   "source": [
    "explore_rate = get_explore_rate(0, args.decay_constant, args.min_explore_rate)\n",
    "explore_rate"
   ]
  },
  {
   "cell_type": "code",
   "execution_count": 6,
   "id": "4930931d",
   "metadata": {},
   "outputs": [
    {
     "data": {
      "text/plain": [
       "array([-0.00518612,  0.0350819 ,  0.0176957 ,  0.04610749], dtype=float32)"
      ]
     },
     "execution_count": 6,
     "metadata": {},
     "output_type": "execute_result"
    }
   ],
   "source": [
    "state = env.reset()\n",
    "state"
   ]
  },
  {
   "cell_type": "code",
   "execution_count": 7,
   "id": "f8509f90",
   "metadata": {},
   "outputs": [],
   "source": [
    "with torch.no_grad():\n",
    "    action = model(torch.tensor(state).unsqueeze(0))"
   ]
  },
  {
   "cell_type": "code",
   "execution_count": 8,
   "id": "6d37a1c6",
   "metadata": {},
   "outputs": [
    {
     "data": {
      "text/plain": [
       "0"
      ]
     },
     "execution_count": 8,
     "metadata": {},
     "output_type": "execute_result"
    }
   ],
   "source": [
    "np.argmax(action.squeeze(0)).item()"
   ]
  },
  {
   "cell_type": "code",
   "execution_count": 9,
   "id": "3c6ff7b6",
   "metadata": {},
   "outputs": [
    {
     "data": {
      "text/plain": [
       "tensor([[ 0.0464, -0.0522]])"
      ]
     },
     "execution_count": 9,
     "metadata": {},
     "output_type": "execute_result"
    }
   ],
   "source": [
    "action"
   ]
  },
  {
   "cell_type": "code",
   "execution_count": 10,
   "id": "131c8f9f",
   "metadata": {},
   "outputs": [
    {
     "data": {
      "text/plain": [
       "0"
      ]
     },
     "execution_count": 10,
     "metadata": {},
     "output_type": "execute_result"
    }
   ],
   "source": [
    "np.argmax(action).item()"
   ]
  },
  {
   "cell_type": "code",
   "execution_count": 11,
   "id": "aa0f800d",
   "metadata": {},
   "outputs": [
    {
     "data": {
      "text/plain": [
       "4"
      ]
     },
     "execution_count": 11,
     "metadata": {},
     "output_type": "execute_result"
    }
   ],
   "source": [
    "random.randint(0, 4)"
   ]
  },
  {
   "cell_type": "code",
   "execution_count": 12,
   "id": "d8cbd857",
   "metadata": {},
   "outputs": [],
   "source": [
    "from collections import deque"
   ]
  },
  {
   "cell_type": "code",
   "execution_count": 13,
   "id": "a5c7f797",
   "metadata": {},
   "outputs": [],
   "source": [
    "state_buf = deque(maxlen = 10)"
   ]
  },
  {
   "cell_type": "code",
   "execution_count": 14,
   "id": "27da5751",
   "metadata": {},
   "outputs": [],
   "source": [
    "state = env.reset()"
   ]
  },
  {
   "cell_type": "code",
   "execution_count": 15,
   "id": "c3352cc3",
   "metadata": {},
   "outputs": [],
   "source": [
    "state_buf.append(state)"
   ]
  },
  {
   "cell_type": "code",
   "execution_count": 16,
   "id": "46928424",
   "metadata": {},
   "outputs": [
    {
     "data": {
      "text/plain": [
       "deque([array([ 0.00384855,  0.0432782 ,  0.03955368, -0.0376634 ], dtype=float32)])"
      ]
     },
     "execution_count": 16,
     "metadata": {},
     "output_type": "execute_result"
    }
   ],
   "source": [
    "state_buf"
   ]
  },
  {
   "cell_type": "code",
   "execution_count": 17,
   "id": "29d8cbc8",
   "metadata": {},
   "outputs": [
    {
     "data": {
      "text/plain": [
       "array([2, 0, 0, 2, 2])"
      ]
     },
     "execution_count": 17,
     "metadata": {},
     "output_type": "execute_result"
    }
   ],
   "source": [
    "np.random.randint(0, 4, 5)"
   ]
  },
  {
   "cell_type": "code",
   "execution_count": 18,
   "id": "7bd33042",
   "metadata": {},
   "outputs": [
    {
     "data": {
      "text/plain": [
       "1"
      ]
     },
     "execution_count": 18,
     "metadata": {},
     "output_type": "execute_result"
    }
   ],
   "source": [
    "len(state_buf)"
   ]
  },
  {
   "cell_type": "code",
   "execution_count": null,
   "id": "0e9dad2e",
   "metadata": {},
   "outputs": [],
   "source": []
  },
  {
   "cell_type": "code",
   "execution_count": null,
   "id": "fdecb849",
   "metadata": {},
   "outputs": [],
   "source": []
  },
  {
   "cell_type": "code",
   "execution_count": 19,
   "id": "cad448e0",
   "metadata": {},
   "outputs": [],
   "source": [
    "from utils import replay_buffer"
   ]
  },
  {
   "cell_type": "code",
   "execution_count": 20,
   "id": "514748dd",
   "metadata": {},
   "outputs": [],
   "source": [
    "memory = replay_buffer(10)"
   ]
  },
  {
   "cell_type": "code",
   "execution_count": 21,
   "id": "6847332f",
   "metadata": {},
   "outputs": [],
   "source": [
    "state = env.reset()\n",
    "action = 1\n",
    "next_state = env.reset()\n",
    "reward = 2\n",
    "done = False"
   ]
  },
  {
   "cell_type": "code",
   "execution_count": 22,
   "id": "577a3dcc",
   "metadata": {},
   "outputs": [],
   "source": [
    "memory.insert_memory((state, action, next_state, reward, done))"
   ]
  },
  {
   "cell_type": "code",
   "execution_count": 23,
   "id": "086fcaae",
   "metadata": {},
   "outputs": [],
   "source": [
    "batch = memory.sample(5)"
   ]
  },
  {
   "cell_type": "code",
   "execution_count": 24,
   "id": "21a864d0",
   "metadata": {},
   "outputs": [
    {
     "data": {
      "text/plain": [
       "(tensor([[-0.0119, -0.0313, -0.0293,  0.0227],\n",
       "         [-0.0119, -0.0313, -0.0293,  0.0227],\n",
       "         [-0.0119, -0.0313, -0.0293,  0.0227],\n",
       "         [-0.0119, -0.0313, -0.0293,  0.0227],\n",
       "         [-0.0119, -0.0313, -0.0293,  0.0227]]),\n",
       " tensor([[1.],\n",
       "         [1.],\n",
       "         [1.],\n",
       "         [1.],\n",
       "         [1.]]),\n",
       " tensor([[-0.0023, -0.0119, -0.0108,  0.0038],\n",
       "         [-0.0023, -0.0119, -0.0108,  0.0038],\n",
       "         [-0.0023, -0.0119, -0.0108,  0.0038],\n",
       "         [-0.0023, -0.0119, -0.0108,  0.0038],\n",
       "         [-0.0023, -0.0119, -0.0108,  0.0038]]),\n",
       " tensor([[2.],\n",
       "         [2.],\n",
       "         [2.],\n",
       "         [2.],\n",
       "         [2.]]),\n",
       " tensor([[0.],\n",
       "         [0.],\n",
       "         [0.],\n",
       "         [0.],\n",
       "         [0.]]))"
      ]
     },
     "execution_count": 24,
     "metadata": {},
     "output_type": "execute_result"
    }
   ],
   "source": [
    "batch"
   ]
  },
  {
   "cell_type": "code",
   "execution_count": null,
   "id": "c0c2edaa",
   "metadata": {},
   "outputs": [],
   "source": []
  },
  {
   "cell_type": "code",
   "execution_count": 25,
   "id": "397c3bed",
   "metadata": {},
   "outputs": [
    {
     "data": {
      "text/plain": [
       "1"
      ]
     },
     "execution_count": 25,
     "metadata": {},
     "output_type": "execute_result"
    }
   ],
   "source": [
    "len(memory)"
   ]
  },
  {
   "cell_type": "code",
   "execution_count": 31,
   "id": "515e5d6b",
   "metadata": {},
   "outputs": [],
   "source": [
    "Q = model(torch.tensor(state))"
   ]
  },
  {
   "cell_type": "code",
   "execution_count": 40,
   "id": "7e2913b5",
   "metadata": {},
   "outputs": [
    {
     "name": "stdout",
     "output_type": "stream",
     "text": [
      "tensor([ 0.0472, -0.0504], grad_fn=<AddBackward0>)\n"
     ]
    },
    {
     "data": {
      "text/plain": [
       "torch.return_types.max(\n",
       "values=tensor(0.0472, grad_fn=<MaxBackward0>),\n",
       "indices=tensor(0))"
      ]
     },
     "execution_count": 40,
     "metadata": {},
     "output_type": "execute_result"
    }
   ],
   "source": [
    "print(Q)\n",
    "Q.max(0)"
   ]
  },
  {
   "cell_type": "code",
   "execution_count": 48,
   "id": "835c6163",
   "metadata": {},
   "outputs": [
    {
     "data": {
      "text/plain": [
       "tensor([[0.0472],\n",
       "        [0.0472],\n",
       "        [0.0472],\n",
       "        [0.0472],\n",
       "        [0.0472]], grad_fn=<MaxBackward0>)"
      ]
     },
     "execution_count": 48,
     "metadata": {},
     "output_type": "execute_result"
    }
   ],
   "source": [
    "model(batch[0]).max(1, keepdim=True)[0]"
   ]
  },
  {
   "cell_type": "code",
   "execution_count": null,
   "id": "6c9513e1",
   "metadata": {},
   "outputs": [],
   "source": []
  }
 ],
 "metadata": {
  "kernelspec": {
   "display_name": "Python 3 (ipykernel)",
   "language": "python",
   "name": "python3"
  },
  "language_info": {
   "codemirror_mode": {
    "name": "ipython",
    "version": 3
   },
   "file_extension": ".py",
   "mimetype": "text/x-python",
   "name": "python",
   "nbconvert_exporter": "python",
   "pygments_lexer": "ipython3",
   "version": "3.8.11"
  }
 },
 "nbformat": 4,
 "nbformat_minor": 5
}
